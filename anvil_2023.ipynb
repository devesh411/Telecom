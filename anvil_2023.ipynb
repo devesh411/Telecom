{
  "nbformat": 4,
  "nbformat_minor": 0,
  "metadata": {
    "colab": {
      "name": "anvil 2021",
      "provenance": [],
      "include_colab_link": true
    },
    "kernelspec": {
      "name": "python3",
      "display_name": "Python 3"
    },
    "language_info": {
      "name": "python"
    }
  },
  "cells": [
    {
      "cell_type": "markdown",
      "metadata": {
        "id": "view-in-github",
        "colab_type": "text"
      },
      "source": [
        "<a href=\"https://colab.research.google.com/github/devesh411/Telecom/blob/main/anvil_2023.ipynb\" target=\"_parent\"><img src=\"https://colab.research.google.com/assets/colab-badge.svg\" alt=\"Open In Colab\"/></a>"
      ]
    },
    {
      "cell_type": "code",
      "metadata": {
        "colab": {
          "base_uri": "https://localhost:8080/",
          "height": 260
        },
        "id": "PGH8PaNqccp3",
        "outputId": "1d6cb087-a18f-4634-80d0-a57fcd6318e4"
      },
      "source": [
        "pip install anvil-uplink"
      ],
      "execution_count": null,
      "outputs": [
        {
          "output_type": "stream",
          "name": "stdout",
          "text": [
            "Looking in indexes: https://pypi.org/simple, https://us-python.pkg.dev/colab-wheels/public/simple/\n",
            "Requirement already satisfied: anvil-uplink in /usr/local/lib/python3.10/dist-packages (0.4.2)\n",
            "Collecting argparse (from anvil-uplink)\n",
            "  Using cached argparse-1.4.0-py2.py3-none-any.whl (23 kB)\n",
            "Requirement already satisfied: future in /usr/local/lib/python3.10/dist-packages (from anvil-uplink) (0.18.3)\n",
            "Requirement already satisfied: six in /usr/local/lib/python3.10/dist-packages (from anvil-uplink) (1.16.0)\n",
            "Requirement already satisfied: ws4py in /usr/local/lib/python3.10/dist-packages (from anvil-uplink) (0.5.1)\n",
            "Installing collected packages: argparse\n",
            "Successfully installed argparse-1.4.0\n"
          ]
        },
        {
          "output_type": "display_data",
          "data": {
            "application/vnd.colab-display-data+json": {
              "pip_warning": {
                "packages": [
                  "argparse"
                ]
              }
            }
          },
          "metadata": {}
        }
      ]
    },
    {
      "cell_type": "code",
      "metadata": {
        "id": "DHOI-Sebcm4d",
        "outputId": "bf9174e3-8bff-4c50-9cb4-bba9cc526294",
        "colab": {
          "base_uri": "https://localhost:8080/"
        }
      },
      "source": [
        "import pickle\n",
        "with open('Telecom','rb') as file:\n",
        "    Telecom= pickle.load(file)"
      ],
      "execution_count": null,
      "outputs": [
        {
          "output_type": "stream",
          "name": "stderr",
          "text": [
            "/usr/local/lib/python3.10/dist-packages/sklearn/base.py:318: UserWarning: Trying to unpickle estimator LogisticRegression from version 1.0.2 when using version 1.2.2. This might lead to breaking code or invalid results. Use at your own risk. For more info please refer to:\n",
            "https://scikit-learn.org/stable/model_persistence.html#security-maintainability-limitations\n",
            "  warnings.warn(\n"
          ]
        }
      ]
    },
    {
      "cell_type": "code",
      "metadata": {
        "colab": {
          "base_uri": "https://localhost:8080/"
        },
        "id": "Rugx9Kmxcm25",
        "outputId": "d9959c01-2f62-4e95-c4a9-65bf7d7f9d3c"
      },
      "source": [
        "Telecom.predict([[29,1,0,1,0,1,1,1,1,0,0,1,0,0]])"
      ],
      "execution_count": null,
      "outputs": [
        {
          "output_type": "stream",
          "name": "stderr",
          "text": [
            "/usr/local/lib/python3.10/dist-packages/sklearn/base.py:439: UserWarning: X does not have valid feature names, but LogisticRegression was fitted with feature names\n",
            "  warnings.warn(\n"
          ]
        },
        {
          "output_type": "execute_result",
          "data": {
            "text/plain": [
              "array([0])"
            ]
          },
          "metadata": {},
          "execution_count": 3
        }
      ]
    },
    {
      "cell_type": "code",
      "metadata": {
        "colab": {
          "base_uri": "https://localhost:8080/"
        },
        "id": "p13j0CNJcm1i",
        "outputId": "167d04a3-4420-4e69-f98d-7d13a1d4ed43"
      },
      "source": [
        "import anvil.server\n",
        "\n",
        "anvil.server.connect(\"452DA5QKXR3YPFG3WQEA4OKC-6UAISXLKVLJKPNJB\")"
      ],
      "execution_count": null,
      "outputs": [
        {
          "output_type": "stream",
          "name": "stdout",
          "text": [
            "Connecting to wss://anvil.works/uplink\n",
            "Anvil websocket open\n",
            "Connected to \"Default environment\" as SERVER\n"
          ]
        }
      ]
    },
    {
      "cell_type": "code",
      "metadata": {
        "id": "yLhvYuijcmz9"
      },
      "source": [
        "@anvil.server.callable\n",
        "def get_data(a,b,c,d,e,f,g,h,i,j):\n",
        "\n",
        "  if i==\"DSL\" and j==\"monthly\":\n",
        "    score=Telecom.predict([[int(a),int(b),int(c),int(d),int(e),int(f),int(g),int(h),1,0,0,1,0,0]])\n",
        "\n",
        "  elif i==\"DSL\" and j==\"oneyear\":\n",
        "    score=Telecom.predict([[int(a),int(b),int(c),int(d),int(e),int(f),int(g),int(h),1,0,0,0,1,0]])\n",
        "\n",
        "  elif i==\"DSL\" and j==\"twoyear\":\n",
        "    score=Telecom.predict([[int(a),int(b),int(c),int(d),int(e),int(f),int(g),int(h),1,0,0,0,0,1]])\n",
        "\n",
        "  elif i==\"fiber\" and j==\"monthly\":\n",
        "    score=Telecom.predict([[int(a),int(b),int(c),int(d),int(e),int(f),int(g),int(h),0,1,0,1,0,0]])\n",
        "\n",
        "  elif i==\"fiber\" and j==\"oneyear\":\n",
        "    score=Telecom.predict([[int(a),int(b),int(c),int(d),int(e),int(f),int(g),int(h),0,1,0,0,1,0]])\n",
        "\n",
        "  elif i==\"fiber\" and j==\"twoyear\":\n",
        "    score=Telecom.predict([[int(a),int(b),int(c),int(d),int(e),int(f),int(g),int(h),0,1,0,0,0,1]])\n",
        "\n",
        "  elif i==\"no\" and j==\"monthly\":\n",
        "    score=Telecom.predict([[int(a),int(b),int(c),int(d),int(e),int(f),int(g),int(h),0,0,1,1,0,0]])\n",
        "\n",
        "  elif i==\"no\" and j==\"oneyear\":\n",
        "    score=Telecom.predict([[int(a),int(b),int(c),int(d),int(e),f,int(g),int(h),0,0,1,0,1,0]])\n",
        "\n",
        "  elif i==\"no\" and j==\"twoyear\":\n",
        "    score=Telecom.predict([[int(a),int(b),int(c),int(d),int(e),int(f),int(g),int(h),0,0,1,0,0,1]])\n",
        "\n",
        "\n",
        "  result=score\n",
        "  if result==1:\n",
        "    return ('This customer will leave your Company [1]')\n",
        "  elif result==0:\n",
        "    return (\"This customer will not leave your Company [0]\")\n",
        "\n"
      ],
      "execution_count": null,
      "outputs": []
    },
    {
      "cell_type": "code",
      "metadata": {
        "id": "sh0JysJOcmxF"
      },
      "source": [],
      "execution_count": null,
      "outputs": []
    },
    {
      "cell_type": "code",
      "metadata": {
        "id": "EvRCtGNmcmv0"
      },
      "source": [],
      "execution_count": null,
      "outputs": []
    }
  ]
}